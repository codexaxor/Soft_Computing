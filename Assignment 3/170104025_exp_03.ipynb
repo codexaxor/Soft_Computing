{
  "nbformat": 4,
  "nbformat_minor": 0,
  "metadata": {
    "colab": {
      "name": "SoftComputing03.ipynb",
      "provenance": [],
      "collapsed_sections": [
        "Jj6kdaAX_jri",
        "PxvpMhjyAajR",
        "9WTggm8qAW1q"
      ]
    },
    "kernelspec": {
      "name": "python3",
      "display_name": "Python 3"
    },
    "language_info": {
      "name": "python"
    },
    "accelerator": "GPU"
  },
  "cells": [
    {
      "cell_type": "markdown",
      "metadata": {
        "id": "pFDOlaQkXhzE"
      },
      "source": [
        "# Imports"
      ]
    },
    {
      "cell_type": "code",
      "metadata": {
        "colab": {
          "base_uri": "https://localhost:8080/"
        },
        "id": "ruQFSpu1XkRx",
        "outputId": "e134fb24-db85-4537-d478-85a291db6f03"
      },
      "source": [
        "import torch \n",
        "import torch.nn as nn\n",
        "import torchvision\n",
        "import pandas as pd\n",
        "import torchvision.transforms as transforms\n",
        "import matplotlib.pyplot as plt\n",
        "import warnings\n",
        "import time,sys\n",
        "import copy\n",
        "import pandas as pd\n",
        "import numpy as np\n",
        "import cv2\n",
        "import os\n",
        "import pathlib\n",
        "import zipfile\n",
        "import torch\n",
        "import torchvision\n",
        "from torch.utils.data import Dataset, DataLoader, ConcatDataset\n",
        "import torch.optim as optim\n",
        "import pathlib\n",
        "import shutil\n",
        "from pathlib import Path\n",
        "from collections import Counter\n",
        "!pip install torchsummary\n",
        "from torchsummary import summary\n",
        "from sklearn.utils import shuffle\n",
        "!pip install torchviz\n",
        "from torchviz import make_dot, make_dot_from_trace\n",
        "\n",
        "# Text pre-processing\n",
        "import string\n",
        "from nltk.corpus import stopwords\n",
        "from collections import Counter\n",
        "from nltk.stem.porter import PorterStemmer\n",
        "from nltk.corpus import wordnet\n",
        "from nltk.stem.wordnet import WordNetLemmatizer\n",
        "import nltk\n",
        "\n",
        "# Data Pre-processing\n",
        "from torch.utils.data import DataLoader, Dataset\n",
        "from sklearn.feature_extraction.text import CountVectorizer\n",
        "\n",
        "\n",
        "#keras\n",
        "import numpy as np\n",
        "from keras.layers import Bidirectional\n",
        "from tensorflow import keras\n",
        "from keras.layers import Activation\n",
        "from keras.models import Sequential\n",
        "from keras.layers import Dense\n",
        "from keras.layers import LSTM\n",
        "from keras.layers.embeddings import Embedding\n",
        "from keras.preprocessing import sequence\n",
        "from tensorflow.keras.layers import Embedding\n",
        "from tensorflow.keras.preprocessing.sequence import pad_sequences\n",
        "from tensorflow.keras.models import Sequential\n",
        "from tensorflow.keras.preprocessing.text import one_hot\n",
        "from tensorflow.keras.layers import LSTM\n",
        "from tensorflow.keras.layers import Dense\n",
        "from tensorflow.keras import layers\n",
        "from keras.layers import Dense\n",
        "from keras.layers import Flatten\n",
        "from keras.layers import Embedding\n",
        "from keras.layers.convolutional import Conv1D\n",
        "from keras.layers.convolutional import MaxPooling1D\n",
        "from sklearn.model_selection import train_test_split\n",
        "import matplotlib.pyplot as plt\n",
        "from sklearn.metrics import accuracy_score\n",
        "from sklearn.metrics import f1_score\n",
        "from sklearn.metrics import precision_score\n",
        "from sklearn.metrics import confusion_matrix\n",
        "from sklearn.metrics import recall_score\n",
        "from sklearn.metrics import classification_report\n",
        "from sklearn.preprocessing import LabelEncoder\n",
        "import seaborn as sn\n",
        "import pandas as pd"
      ],
      "execution_count": 1,
      "outputs": [
        {
          "output_type": "stream",
          "name": "stdout",
          "text": [
            "Requirement already satisfied: torchsummary in /usr/local/lib/python3.7/dist-packages (1.5.1)\n",
            "Collecting torchviz\n",
            "  Downloading torchviz-0.0.2.tar.gz (4.9 kB)\n",
            "Requirement already satisfied: torch in /usr/local/lib/python3.7/dist-packages (from torchviz) (1.9.0+cu102)\n",
            "Requirement already satisfied: graphviz in /usr/local/lib/python3.7/dist-packages (from torchviz) (0.10.1)\n",
            "Requirement already satisfied: typing-extensions in /usr/local/lib/python3.7/dist-packages (from torch->torchviz) (3.7.4.3)\n",
            "Building wheels for collected packages: torchviz\n",
            "  Building wheel for torchviz (setup.py) ... \u001b[?25l\u001b[?25hdone\n",
            "  Created wheel for torchviz: filename=torchviz-0.0.2-py3-none-any.whl size=4151 sha256=3772c66c16e5ef50f39fd4d16ee37ee33faec06b2bbf1fe7bcc4bd3803b63181\n",
            "  Stored in directory: /root/.cache/pip/wheels/04/38/f5/dc4f85c3909051823df49901e72015d2d750bd26b086480ec2\n",
            "Successfully built torchviz\n",
            "Installing collected packages: torchviz\n",
            "Successfully installed torchviz-0.0.2\n"
          ]
        }
      ]
    },
    {
      "cell_type": "markdown",
      "metadata": {
        "id": "VmH1lhD2XAV0"
      },
      "source": [
        "# Pre-Processing"
      ]
    },
    {
      "cell_type": "code",
      "metadata": {
        "colab": {
          "base_uri": "https://localhost:8080/"
        },
        "id": "6kuDOAYJVGnP",
        "outputId": "4b19e0e8-6993-4ec3-dbc9-e58587d73e07"
      },
      "source": [
        "# Dataset-2\n",
        "!gdown --id 1NNH-hji6uzKIkJq4Fjup51gFIh6gBAVt"
      ],
      "execution_count": 2,
      "outputs": [
        {
          "output_type": "stream",
          "name": "stdout",
          "text": [
            "Downloading...\n",
            "From: https://drive.google.com/uc?id=1NNH-hji6uzKIkJq4Fjup51gFIh6gBAVt\n",
            "To: /content/Dataset 2.csv\n",
            "\r  0% 0.00/999k [00:00<?, ?B/s]\r100% 999k/999k [00:00<00:00, 68.1MB/s]\n"
          ]
        }
      ]
    },
    {
      "cell_type": "code",
      "metadata": {
        "id": "P2jj9lj4ZfGa"
      },
      "source": [
        "csv_file = pd.read_csv('/content/Dataset 2.csv',encoding = \"ISO-8859-1\")"
      ],
      "execution_count": 3,
      "outputs": []
    },
    {
      "cell_type": "code",
      "metadata": {
        "colab": {
          "base_uri": "https://localhost:8080/",
          "height": 0
        },
        "id": "Eo0JGOmPW-91",
        "outputId": "70620289-9d89-49ba-b87a-4287277a4500"
      },
      "source": [
        "#expanding the dispay of text sms column\n",
        "pd.set_option('display.max_colwidth', -1)\n",
        "csv_file.head(5)"
      ],
      "execution_count": 4,
      "outputs": [
        {
          "output_type": "stream",
          "name": "stderr",
          "text": [
            "/usr/local/lib/python3.7/dist-packages/ipykernel_launcher.py:2: FutureWarning: Passing a negative integer is deprecated in version 1.0 and will not be supported in future version. Instead, use None to not limit the column width.\n",
            "  \n"
          ]
        },
        {
          "output_type": "execute_result",
          "data": {
            "text/html": [
              "<div>\n",
              "<style scoped>\n",
              "    .dataframe tbody tr th:only-of-type {\n",
              "        vertical-align: middle;\n",
              "    }\n",
              "\n",
              "    .dataframe tbody tr th {\n",
              "        vertical-align: top;\n",
              "    }\n",
              "\n",
              "    .dataframe thead th {\n",
              "        text-align: right;\n",
              "    }\n",
              "</style>\n",
              "<table border=\"1\" class=\"dataframe\">\n",
              "  <thead>\n",
              "    <tr style=\"text-align: right;\">\n",
              "      <th></th>\n",
              "      <th>text</th>\n",
              "      <th>polarity</th>\n",
              "    </tr>\n",
              "  </thead>\n",
              "  <tbody>\n",
              "    <tr>\n",
              "      <th>0</th>\n",
              "      <td>just had a real good moment. i missssssssss him so much,</td>\n",
              "      <td>0</td>\n",
              "    </tr>\n",
              "    <tr>\n",
              "      <th>1</th>\n",
              "      <td>is reading manga  http://plurk.com/p/mzp1e</td>\n",
              "      <td>0</td>\n",
              "    </tr>\n",
              "    <tr>\n",
              "      <th>2</th>\n",
              "      <td>@comeagainjen http://twitpic.com/2y2lx - http://www.youtube.com/watch?v=zoGfqvh2ME8</td>\n",
              "      <td>0</td>\n",
              "    </tr>\n",
              "    <tr>\n",
              "      <th>3</th>\n",
              "      <td>@lapcat Need to send 'em to my accountant tomorrow. Oddly, I wasn't even referring to my taxes. Those are supporting evidence, though.</td>\n",
              "      <td>0</td>\n",
              "    </tr>\n",
              "    <tr>\n",
              "      <th>4</th>\n",
              "      <td>ADD ME ON MYSPACE!!!  myspace.com/LookThunder</td>\n",
              "      <td>0</td>\n",
              "    </tr>\n",
              "  </tbody>\n",
              "</table>\n",
              "</div>"
            ],
            "text/plain": [
              "                                                                                                                                      text  polarity\n",
              "0  just had a real good moment. i missssssssss him so much,                                                                                 0       \n",
              "1  is reading manga  http://plurk.com/p/mzp1e                                                                                               0       \n",
              "2  @comeagainjen http://twitpic.com/2y2lx - http://www.youtube.com/watch?v=zoGfqvh2ME8                                                      0       \n",
              "3  @lapcat Need to send 'em to my accountant tomorrow. Oddly, I wasn't even referring to my taxes. Those are supporting evidence, though.   0       \n",
              "4  ADD ME ON MYSPACE!!!  myspace.com/LookThunder                                                                                            0       "
            ]
          },
          "metadata": {},
          "execution_count": 4
        }
      ]
    },
    {
      "cell_type": "code",
      "metadata": {
        "id": "ZKr8blqEb_qV"
      },
      "source": [
        "csv_file.drop(10313,inplace=True)"
      ],
      "execution_count": 5,
      "outputs": []
    },
    {
      "cell_type": "markdown",
      "metadata": {
        "id": "N9tsVPjhWaZe"
      },
      "source": [
        "## Text Processing"
      ]
    },
    {
      "cell_type": "markdown",
      "metadata": {
        "id": "ZcfDMRTJv115"
      },
      "source": [
        "[Kaggle Text Processing Sample](https://www.kaggle.com/sudalairajkumar/getting-started-with-text-preprocessing)"
      ]
    },
    {
      "cell_type": "code",
      "metadata": {
        "colab": {
          "base_uri": "https://localhost:8080/"
        },
        "id": "KhYDhGFLpNXM",
        "outputId": "45533e22-c83e-48e4-a5a2-0517bd3a40d9"
      },
      "source": [
        "nltk.download('stopwords')\n",
        "nltk.download('wordnet')\n",
        "nltk.download('averaged_perceptron_tagger')"
      ],
      "execution_count": 6,
      "outputs": [
        {
          "output_type": "stream",
          "name": "stdout",
          "text": [
            "[nltk_data] Downloading package stopwords to /root/nltk_data...\n",
            "[nltk_data]   Unzipping corpora/stopwords.zip.\n",
            "[nltk_data] Downloading package wordnet to /root/nltk_data...\n",
            "[nltk_data]   Unzipping corpora/wordnet.zip.\n",
            "[nltk_data] Downloading package averaged_perceptron_tagger to\n",
            "[nltk_data]     /root/nltk_data...\n",
            "[nltk_data]   Unzipping taggers/averaged_perceptron_tagger.zip.\n"
          ]
        },
        {
          "output_type": "execute_result",
          "data": {
            "text/plain": [
              "True"
            ]
          },
          "metadata": {},
          "execution_count": 6
        }
      ]
    },
    {
      "cell_type": "code",
      "metadata": {
        "id": "dLiqCz-AWEXP"
      },
      "source": [
        "# Lower Casing\n",
        "csv_file['text'] = csv_file['text'].str.lower()\n",
        "\n",
        "# Removal of Punctuations\n",
        "PUNCT_TO_REMOVE = string.punctuation\n",
        "def remove_punctuation(text):\n",
        "    \"\"\"custom function to remove the punctuation\"\"\"\n",
        "    return text.translate(str.maketrans('', '', PUNCT_TO_REMOVE))\n",
        "csv_file['text'] = csv_file['text'].apply(lambda text: remove_punctuation(text))\n",
        "\n",
        "# Removal of stopwords\n",
        "STOPWORDS = set(stopwords.words('english'))\n",
        "def remove_stopwords(text):\n",
        "    \"\"\"custom function to remove the stopwords\"\"\"\n",
        "    return \" \".join([word for word in str(text).split() if word not in STOPWORDS])\n",
        "\n",
        "csv_file['text'] = csv_file['text'].apply(lambda text: remove_stopwords(text))\n",
        "\n",
        "# Removal of Frequent words\n",
        "cnt = Counter()\n",
        "for text in csv_file['text'].values:\n",
        "    for word in text.split():\n",
        "        cnt[word] += 1\n",
        "FREQWORDS = set([w for (w, wc) in cnt.most_common(10)])\n",
        "def remove_freqwords(text):\n",
        "    \"\"\"custom function to remove the frequent words\"\"\"\n",
        "    return \" \".join([word for word in str(text).split() if word not in FREQWORDS])\n",
        "\n",
        "csv_file['text'] = csv_file['text'].apply(lambda text: remove_freqwords(text))\n",
        "\n",
        "# Removal of Rare words\n",
        "n_rare_words = 10\n",
        "RAREWORDS = set([w for (w, wc) in cnt.most_common()[:-n_rare_words-1:-1]])\n",
        "def remove_rarewords(text):\n",
        "    \"\"\"custom function to remove the rare words\"\"\"\n",
        "    return \" \".join([word for word in str(text).split() if word not in RAREWORDS])\n",
        "\n",
        "csv_file['text'] = csv_file['text'].apply(lambda text: remove_rarewords(text))\n",
        "\n",
        "# # Stemming [NOT USEFUL]\n",
        "# stemmer = PorterStemmer()\n",
        "# def stem_words(text):\n",
        "#     # return wnl.lemmatize(word) if wnl.lemmatize(word).endswith('e') for word in text.split() else stemmer.stem(word) for word in text.split()\n",
        "#     # return \" \".join([wnl.lemmatize(word) if wnl.lemmatize(word).endswith('e') for word in text.split() else stemmer.stem(word) for word in text.split()])\n",
        "#     return \" \".join([stemmer.stem(word) for word in text.split()])\n",
        "# pt = csv_file['text'].apply(lambda text: stem_words(text))\n",
        "\n",
        "# Lemmatization\n",
        "lemmatizer = WordNetLemmatizer()\n",
        "wordnet_map = {\"N\":wordnet.NOUN, \"V\":wordnet.VERB, \"J\":wordnet.ADJ, \"R\":wordnet.ADV}\n",
        "def lemmatize_words(text):\n",
        "    pos_tagged_text = nltk.pos_tag(text.split())\n",
        "    return \" \".join([lemmatizer.lemmatize(word, wordnet_map.get(pos[0], wordnet.NOUN)) for word, pos in pos_tagged_text])\n",
        "\n",
        "csv_file['text'] = csv_file['text'].apply(lambda text: lemmatize_words(text))\n",
        "\n",
        "# # Chat Words Conversion\n",
        "# chat_words_map_dict = {}\n",
        "# chat_words_list = []\n",
        "# for line in csv_file['text'].str.split(\"\\n\"):\n",
        "#     line = ''.join(line)\n",
        "#     # print(line)\n",
        "#     if line != \"\":\n",
        "#         cw = line.split(\"=\")[0]\n",
        "#         print(cw)\n",
        "#         cw_expanded = line.split(\"=\")[1]\n",
        "#         print(cw_expanded)\n",
        "#         chat_words_list.append(cw)\n",
        "#         chat_words_map_dict[cw] = cw_expanded\n",
        "# chat_words_list = set(chat_words_list)\n",
        "\n",
        "# def chat_words_conversion(text):\n",
        "#     new_text = []\n",
        "#     for w in text.split():\n",
        "#         if w.upper() in chat_words_list:\n",
        "#             new_text.append(chat_words_map_dict[w.upper()])\n",
        "#         else:\n",
        "#             new_text.append(w)\n",
        "#     return \" \".join(new_text)\n",
        "\n",
        "# pt = csv_file['text'].apply(lambda text: chat_words_conversion(text))"
      ],
      "execution_count": 7,
      "outputs": []
    },
    {
      "cell_type": "code",
      "metadata": {
        "id": "hJKfzryz4cX9"
      },
      "source": [
        "csv_file.columns = csv_file.columns.str.strip()"
      ],
      "execution_count": 8,
      "outputs": []
    },
    {
      "cell_type": "code",
      "metadata": {
        "colab": {
          "base_uri": "https://localhost:8080/"
        },
        "id": "CjmD5fW_YYgj",
        "outputId": "ff5058d2-b5f0-467c-fb83-5b3d421b44ef"
      },
      "source": [
        "# common Words\n",
        "cnt = Counter()\n",
        "for text in csv_file['text'].values:\n",
        "    for word in text.split():\n",
        "        cnt[word] += 1\n",
        "cnt.most_common(5)"
      ],
      "execution_count": 9,
      "outputs": [
        {
          "output_type": "execute_result",
          "data": {
            "text/plain": [
              "[('go', 878), ('get', 505), ('u', 499), ('time', 457), ('make', 430)]"
            ]
          },
          "metadata": {},
          "execution_count": 9
        }
      ]
    },
    {
      "cell_type": "code",
      "metadata": {
        "colab": {
          "base_uri": "https://localhost:8080/"
        },
        "id": "JSBPC73yTMmP",
        "outputId": "94b6e6ac-b53b-45ab-ba94-c07931f80084"
      },
      "source": [
        "# Save a Copy\n",
        "preserve_csv = csv_file\n",
        "preserve_csv.to_csv('modified_data.csv',index=False)\n",
        "data_file = pd.read_csv('modified_data.csv')\n",
        "data_file = data_file.astype(str)\n",
        "data_file.dtypes"
      ],
      "execution_count": 10,
      "outputs": [
        {
          "output_type": "execute_result",
          "data": {
            "text/plain": [
              "text        object\n",
              "polarity    object\n",
              "dtype: object"
            ]
          },
          "metadata": {},
          "execution_count": 10
        }
      ]
    },
    {
      "cell_type": "code",
      "metadata": {
        "id": "_7b1kiCjdbzj"
      },
      "source": [
        "# Load Columns to List\n",
        "text_file=[]\n",
        "for idx in range(0,len(data_file)):\n",
        "  word = data_file['text'][idx]\n",
        "  text_file.append(word)\n",
        "\n",
        "# Word count\n",
        "per_line_words = []\n",
        "for idx in range(0,len(text_file)):\n",
        "  ss = str(text_file[idx])\n",
        "  xx = ss.split()\n",
        "  per_line_words.append(len(xx))"
      ],
      "execution_count": 11,
      "outputs": []
    },
    {
      "cell_type": "code",
      "metadata": {
        "id": "OG7D_M5QomNv"
      },
      "source": [
        "# Total Words\n",
        "sum(per_line_words) #85529\n",
        "# Maximum Word in a line\n",
        "max(per_line_words) #50\n",
        "# Minimum Word in a line \n",
        "min(per_line_words) #1\n",
        "# Unique Words\n",
        "uniq_vocab  = set()\n",
        "type(uniq_vocab)\n",
        "for idx in range(0,len(text_file)):\n",
        "    mm = str(text_file[idx]).split()\n",
        "    uniq_vocab.add(str(mm))"
      ],
      "execution_count": 12,
      "outputs": []
    },
    {
      "cell_type": "code",
      "metadata": {
        "id": "D0ouK3B6q6JW"
      },
      "source": [
        "# uniq_vocab\n",
        "vocab_size = len(uniq_vocab)\n",
        "# max sentece length\n",
        "sentence_len = max(per_line_words)"
      ],
      "execution_count": 13,
      "outputs": []
    },
    {
      "cell_type": "markdown",
      "metadata": {
        "id": "84Q5F6EPXSjn"
      },
      "source": [
        "# Model Design in Keras"
      ]
    },
    {
      "cell_type": "code",
      "metadata": {
        "id": "X2gfUEFFpHNN"
      },
      "source": [
        "# One HOt Encoder\n",
        "One_hot_Encoding = [one_hot(words,vocab_size) for words in text_file]\n"
      ],
      "execution_count": 14,
      "outputs": []
    },
    {
      "cell_type": "code",
      "metadata": {
        "id": "mkESUtWUu5De"
      },
      "source": [
        "# Pad Sequence\n",
        "transform_numpy = pad_sequences(One_hot_Encoding,padding='pre',maxlen=sentence_len)"
      ],
      "execution_count": 15,
      "outputs": []
    },
    {
      "cell_type": "code",
      "metadata": {
        "id": "aSh7Kh5wvhkP"
      },
      "source": [
        "X = np.array(transform_numpy)\n",
        "label_encoder = LabelEncoder()\n",
        "y = np.array(label_encoder.fit_transform(data_file.polarity))"
      ],
      "execution_count": 16,
      "outputs": []
    },
    {
      "cell_type": "code",
      "metadata": {
        "id": "XVqjIaJrv0RO"
      },
      "source": [
        "# Train Test Splitting\n",
        "X_train, X_test, y_train, y_test = train_test_split(X, y, test_size=0.2, random_state=25)"
      ],
      "execution_count": 17,
      "outputs": []
    },
    {
      "cell_type": "code",
      "metadata": {
        "id": "CDQFOC5oJdpG"
      },
      "source": [
        "X_train = np.array(X_train)\n",
        "X_test = np.array(X_test)\n",
        "y_train = np.array(y_train)\n",
        "y_test = np.array(y_test)"
      ],
      "execution_count": 18,
      "outputs": []
    },
    {
      "cell_type": "code",
      "metadata": {
        "colab": {
          "base_uri": "https://localhost:8080/"
        },
        "id": "q2ue260R-kT6",
        "outputId": "cf3d28b3-f77b-4012-9e86-0ee9788167ee"
      },
      "source": [
        "# Bidirectional LSTM designing\n",
        "# https://keras.io/examples/nlp/bidirectional_lstm_imdb/\n",
        "# model = Sequential()\n",
        "inputs = keras.Input(shape=(None,), dtype=\"float32\")\n",
        "# Embed each integer in a 128-dimensional vector\n",
        "x = layers.Embedding(vocab_size, 128)(inputs)\n",
        "# Add 4 bidirectional LSTMs\n",
        "x = layers.Bidirectional(layers.LSTM(64, return_sequences=True))(x)\n",
        "x = layers.Bidirectional(layers.LSTM(64, return_sequences=True))(x)\n",
        "x = layers.Bidirectional(layers.LSTM(64, return_sequences=True))(x)\n",
        "x = layers.Bidirectional(layers.LSTM(64))(x)\n",
        "# Add a classifier\n",
        "outputs = layers.Dense(1, activation=\"sigmoid\")(x)\n",
        "model = keras.Model(inputs, outputs)\n",
        "model.summary()"
      ],
      "execution_count": 20,
      "outputs": [
        {
          "output_type": "stream",
          "name": "stdout",
          "text": [
            "Model: \"model\"\n",
            "_________________________________________________________________\n",
            "Layer (type)                 Output Shape              Param #   \n",
            "=================================================================\n",
            "input_1 (InputLayer)         [(None, None)]            0         \n",
            "_________________________________________________________________\n",
            "embedding (Embedding)        (None, None, 128)         1311360   \n",
            "_________________________________________________________________\n",
            "bidirectional (Bidirectional (None, None, 128)         98816     \n",
            "_________________________________________________________________\n",
            "bidirectional_1 (Bidirection (None, None, 128)         98816     \n",
            "_________________________________________________________________\n",
            "bidirectional_2 (Bidirection (None, None, 128)         98816     \n",
            "_________________________________________________________________\n",
            "bidirectional_3 (Bidirection (None, 128)               98816     \n",
            "_________________________________________________________________\n",
            "dense (Dense)                (None, 1)                 129       \n",
            "=================================================================\n",
            "Total params: 1,706,753\n",
            "Trainable params: 1,706,753\n",
            "Non-trainable params: 0\n",
            "_________________________________________________________________\n"
          ]
        }
      ]
    },
    {
      "cell_type": "code",
      "metadata": {
        "colab": {
          "base_uri": "https://localhost:8080/"
        },
        "id": "Zn-fYYtwDakw",
        "outputId": "7e21309c-cd7a-41f4-cc0b-f726c8dad93d"
      },
      "source": [
        "# Train Model\n",
        "model.compile(loss='binary_crossentropy', optimizer='adam', metrics=['accuracy']) \n",
        "train_model = model.fit(X_train, y_train, batch_size=100, epochs=10, validation_data=(X_test, y_test))"
      ],
      "execution_count": 21,
      "outputs": [
        {
          "output_type": "stream",
          "name": "stdout",
          "text": [
            "Epoch 1/10\n",
            "83/83 [==============================] - 32s 174ms/step - loss: 0.4049 - accuracy: 0.8337 - val_loss: 0.2566 - val_accuracy: 0.9084\n",
            "Epoch 2/10\n",
            "83/83 [==============================] - 11s 138ms/step - loss: 0.1625 - accuracy: 0.9442 - val_loss: 0.2598 - val_accuracy: 0.9186\n",
            "Epoch 3/10\n",
            "83/83 [==============================] - 12s 139ms/step - loss: 0.0776 - accuracy: 0.9747 - val_loss: 0.2332 - val_accuracy: 0.9161\n",
            "Epoch 4/10\n",
            "83/83 [==============================] - 12s 139ms/step - loss: 0.0474 - accuracy: 0.9865 - val_loss: 0.2956 - val_accuracy: 0.9108\n",
            "Epoch 5/10\n",
            "83/83 [==============================] - 12s 139ms/step - loss: 0.0273 - accuracy: 0.9916 - val_loss: 0.3918 - val_accuracy: 0.9016\n",
            "Epoch 6/10\n",
            "83/83 [==============================] - 11s 139ms/step - loss: 0.0152 - accuracy: 0.9953 - val_loss: 0.4909 - val_accuracy: 0.8968\n",
            "Epoch 7/10\n",
            "83/83 [==============================] - 11s 138ms/step - loss: 0.0122 - accuracy: 0.9964 - val_loss: 0.4937 - val_accuracy: 0.9050\n",
            "Epoch 8/10\n",
            "83/83 [==============================] - 11s 138ms/step - loss: 0.0067 - accuracy: 0.9977 - val_loss: 0.6262 - val_accuracy: 0.8856\n",
            "Epoch 9/10\n",
            "83/83 [==============================] - 12s 139ms/step - loss: 0.0141 - accuracy: 0.9956 - val_loss: 0.4817 - val_accuracy: 0.9006\n",
            "Epoch 10/10\n",
            "83/83 [==============================] - 11s 138ms/step - loss: 0.0260 - accuracy: 0.9913 - val_loss: 0.4854 - val_accuracy: 0.8992\n"
          ]
        }
      ]
    },
    {
      "cell_type": "code",
      "metadata": {
        "id": "vV_jSvqtRCt-"
      },
      "source": [
        "y_pred=np.round(model.predict(X_test))"
      ],
      "execution_count": 22,
      "outputs": []
    },
    {
      "cell_type": "markdown",
      "metadata": {
        "id": "kMkSK-ggQ9os"
      },
      "source": [
        "# Result Analysis"
      ]
    },
    {
      "cell_type": "code",
      "metadata": {
        "colab": {
          "base_uri": "https://localhost:8080/",
          "height": 404
        },
        "id": "LP-n1hAnRB-6",
        "outputId": "2acc5f87-2019-4175-b01a-76565d8c4c71"
      },
      "source": [
        "# Accuracy\n",
        "plt.figure(figsize=(8, 6))\n",
        "plt.title(\"Accuracy\")\n",
        "plt.plot(train_model.history['accuracy'])\n",
        "plt.plot(train_model.history['val_accuracy'])\n",
        "plt.ylabel('accuracy')\n",
        "plt.xlabel('epoch')\n",
        "plt.legend(['train', 'test'], loc='upper left')\n",
        "plt.show()"
      ],
      "execution_count": 23,
      "outputs": [
        {
          "output_type": "display_data",
          "data": {
            "image/png": "[encoded data removed]",
            "text/plain": [
              "<Figure size 576x432 with 1 Axes>"
            ]
          },
          "metadata": {
            "needs_background": "light"
          }
        }
      ]
    },
    {
      "cell_type": "code",
      "metadata": {
        "colab": {
          "base_uri": "https://localhost:8080/",
          "height": 404
        },
        "id": "Va50xfNnUbFi",
        "outputId": "1fc8326d-12f7-4789-b1b8-7314e8fc78b4"
      },
      "source": [
        "# Loss\n",
        "plt.figure(figsize=(8, 6))\n",
        "plt.title(\"Loss\")\n",
        "plt.plot(train_model.history['loss'])\n",
        "plt.plot(train_model.history['val_loss'])\n",
        "plt.ylabel('los')\n",
        "plt.xlabel('epoch')\n",
        "plt.legend(['train', 'test'], loc='upper left')\n",
        "plt.show()"
      ],
      "execution_count": 24,
      "outputs": [
        {
          "output_type": "display_data",
          "data": {
            "image/png": "[encoded data removed]",
            "text/plain": [
              "<Figure size 576x432 with 1 Axes>"
            ]
          },
          "metadata": {
            "needs_background": "light"
          }
        }
      ]
    },
    {
      "cell_type": "code",
      "metadata": {
        "colab": {
          "base_uri": "https://localhost:8080/"
        },
        "id": "mhtvGjPoU3M2",
        "outputId": "ab83ef83-7d45-4593-a25b-57e39b04f1db"
      },
      "source": [
        "accuracy_score(y_test,y_pred)"
      ],
      "execution_count": 25,
      "outputs": [
        {
          "output_type": "execute_result",
          "data": {
            "text/plain": [
              "0.8991759573436743"
            ]
          },
          "metadata": {},
          "execution_count": 25
        }
      ]
    },
    {
      "cell_type": "code",
      "metadata": {
        "colab": {
          "base_uri": "https://localhost:8080/"
        },
        "id": "8rS-Vvw9U8it",
        "outputId": "ff68a9fd-fdf9-41c3-cb5e-5064af011a68"
      },
      "source": [
        "f1_score(y_test, y_pred, average='micro')"
      ],
      "execution_count": 26,
      "outputs": [
        {
          "output_type": "execute_result",
          "data": {
            "text/plain": [
              "0.8991759573436743"
            ]
          },
          "metadata": {},
          "execution_count": 26
        }
      ]
    },
    {
      "cell_type": "code",
      "metadata": {
        "colab": {
          "base_uri": "https://localhost:8080/"
        },
        "id": "84k8DeQ1U8WR",
        "outputId": "9a6a27f1-e6ad-41d5-abb4-cfda4eb8551a"
      },
      "source": [
        "precision_score(y_test, y_pred, average='micro')"
      ],
      "execution_count": 27,
      "outputs": [
        {
          "output_type": "execute_result",
          "data": {
            "text/plain": [
              "0.8991759573436743"
            ]
          },
          "metadata": {},
          "execution_count": 27
        }
      ]
    },
    {
      "cell_type": "code",
      "metadata": {
        "colab": {
          "base_uri": "https://localhost:8080/"
        },
        "id": "HRpYo4tbU8Rv",
        "outputId": "6b5c9282-ff7e-4297-915b-3dec76a5d79f"
      },
      "source": [
        "recall_score(y_test, y_pred, average='micro')"
      ],
      "execution_count": 28,
      "outputs": [
        {
          "output_type": "execute_result",
          "data": {
            "text/plain": [
              "0.8991759573436743"
            ]
          },
          "metadata": {},
          "execution_count": 28
        }
      ]
    },
    {
      "cell_type": "code",
      "metadata": {
        "colab": {
          "base_uri": "https://localhost:8080/"
        },
        "id": "BzG0uYkaU8MK",
        "outputId": "5e1dc352-a108-4629-f319-a8815d56dc91"
      },
      "source": [
        "cf = confusion_matrix(y_test,y_pred)\n",
        "cf"
      ],
      "execution_count": 29,
      "outputs": [
        {
          "output_type": "execute_result",
          "data": {
            "text/plain": [
              "array([[1495,  107],\n",
              "       [ 101,  360]])"
            ]
          },
          "metadata": {},
          "execution_count": 29
        }
      ]
    },
    {
      "cell_type": "markdown",
      "metadata": {
        "id": "Jj6kdaAX_jri"
      },
      "source": [
        "# Model Design in pyTorch"
      ]
    },
    {
      "cell_type": "markdown",
      "metadata": {
        "id": "PxvpMhjyAajR"
      },
      "source": [
        "## Design Model"
      ]
    },
    {
      "cell_type": "code",
      "metadata": {
        "id": "cx_U45DR_oCC"
      },
      "source": [
        "class Sequences(Dataset):\n",
        "    def __init__(self, data):\n",
        "        self.labels = data.polarity.tolist()\n",
        "    \n",
        "    def __getitem__(self, i):\n",
        "        return self.sequences[i, :].toarray(), self.labels[i]\n",
        "    \n",
        "    def __len__(self):\n",
        "        return self.sequences.shape[0]"
      ],
      "execution_count": 19,
      "outputs": []
    },
    {
      "cell_type": "code",
      "metadata": {
        "id": "9nCyKigh_-7x"
      },
      "source": [
        "class RNN(nn.Module):\n",
        "    def __init__(self, input_size, hidden_size, num_layers, num_classes):\n",
        "        super(RNN, self).__init__()\n",
        "        self.hidden_size = hidden_size\n",
        "        self.num_layers = num_layers\n",
        "        self.lstm = nn.LSTM(input_size, hidden_size, num_layers, bidirectional=True, batch_first=True)\n",
        "        self.fc = nn.Linear(hidden_size, num_classes)\n",
        "    \n",
        "    def forward(self, x):\n",
        "        # Set initial hidden and cell states \n",
        "        h0 = torch.zeros(self.num_layers, x.size(0), self.hidden_size).to(device) \n",
        "        c0 = torch.zeros(self.num_layers, x.size(0), self.hidden_size).to(device)\n",
        "        \n",
        "        # Forward propagate LSTM\n",
        "        out, _ = self.lstm(x, (h0, c0))  # out: tensor of shape (batch_size, seq_length, hidden_size)\n",
        "        \n",
        "        # Decode the hidden state of the last time step\n",
        "        out = self.fc(out[:, -1, :])\n",
        "        return out"
      ],
      "execution_count": 40,
      "outputs": []
    },
    {
      "cell_type": "markdown",
      "metadata": {
        "id": "9WTggm8qAW1q"
      },
      "source": [
        "## Data Process For Training"
      ]
    },
    {
      "cell_type": "code",
      "metadata": {
        "id": "qojnvRwpt8a6"
      },
      "source": [
        "class Dictionary(object):\n",
        "    def __init__(self):\n",
        "        self.word2idx = {}\n",
        "        self.idx2word = {}\n",
        "        self.idx = 0\n",
        "    \n",
        "    def add_word(self, word):\n",
        "        if not word in self.word2idx:\n",
        "            self.word2idx[word] = self.idx\n",
        "            self.idx2word[self.idx] = word\n",
        "            self.idx += 1\n",
        "    \n",
        "    def __len__(self):\n",
        "        return len(self.word2idx)\n",
        "\n",
        "class Corpus(object):\n",
        "    def __init__(self):\n",
        "        self.dictionary = Dictionary()\n",
        "\n",
        "    def get_data(self, path, batch_size=20):\n",
        "        # Add words to the dictionary\n",
        "        with open(path, 'r') as f:\n",
        "            tokens = 0\n",
        "            for line in f:\n",
        "                words = line.split() + ['<eos>']\n",
        "                tokens += len(words)\n",
        "                for word in words: \n",
        "                    self.dictionary.add_word(word)  \n",
        "        \n",
        "        # Tokenize the file content\n",
        "        ids = torch.LongTensor(tokens)\n",
        "        token = 0\n",
        "        with open(path, 'r') as f:\n",
        "            for line in f:\n",
        "                words = line.split() + ['<eos>']\n",
        "                for word in words:\n",
        "                    ids[token] = self.dictionary.word2idx[word]\n",
        "                    token += 1\n",
        "        num_batches = ids.size(0) // batch_size\n",
        "        ids = ids[:num_batches*batch_size]\n",
        "        return ids.view(batch_size, -1)"
      ],
      "execution_count": 27,
      "outputs": []
    },
    {
      "cell_type": "code",
      "metadata": {
        "colab": {
          "base_uri": "https://localhost:8080/"
        },
        "id": "xzZ02CzVLAn8",
        "outputId": "31bcff04-87ad-4e77-e0e6-38c4ff2cd2e8"
      },
      "source": [
        "# Device configuration\n",
        "device = torch.device('cuda' if torch.cuda.is_available() else 'cpu')\n",
        "\n",
        "# Hyper-parameters\n",
        "sequence_length = 28\n",
        "input_size = 28\n",
        "hidden_size = 128\n",
        "num_layers = 3\n",
        "num_classes = 2\n",
        "batch_size = 32\n",
        "num_epochs = 5\n",
        "learning_rate = 0.01\n",
        "\n",
        "print(device)"
      ],
      "execution_count": 37,
      "outputs": [
        {
          "output_type": "stream",
          "name": "stdout",
          "text": [
            "cpu\n"
          ]
        }
      ]
    },
    {
      "cell_type": "code",
      "metadata": {
        "colab": {
          "base_uri": "https://localhost:8080/"
        },
        "id": "foSYaQtRueCU",
        "outputId": "4ab94c13-13ce-4b3b-afa4-cc5165955e6d"
      },
      "source": [
        "corpus = Corpus()\n",
        "text_full_data = csv_file['text'].astype(str)\n",
        "\n",
        "file = open('/content/dump.txt', 'w')\n",
        "file.write(str(text_full_data))\n",
        "file.close()\n",
        "\n",
        "ids = corpus.get_data('/content/dump.txt', batch_size)\n",
        "vocab_size = len(corpus.dictionary)\n",
        "\n",
        "print(vocab_size,num_batches,sep=' ')"
      ],
      "execution_count": 36,
      "outputs": [
        {
          "output_type": "stream",
          "name": "stdout",
          "text": [
            "112 1\n"
          ]
        }
      ]
    },
    {
      "cell_type": "code",
      "metadata": {
        "id": "kcSlLoQhaoog"
      },
      "source": [
        "# Shuffle DatasetFrame\n",
        "csv_file = csv_file.sample(frac=1)\n",
        "\n",
        "# Column Naming\n",
        "csv_file.columns = ['text','polarity']\n",
        "\n",
        "# Train Test Splitting\n",
        "msk = np.random.rand(len(csv_file)) <= 0.8\n",
        "train_data = csv_file[msk]\n",
        "test_data = csv_file[~msk]"
      ],
      "execution_count": 26,
      "outputs": []
    },
    {
      "cell_type": "code",
      "metadata": {
        "id": "Od0IKfviN_B7"
      },
      "source": [
        "TRAIN_seq = Sequences(train_data)\n",
        "TEST_seq = Sequences(test_data)\n",
        "\n",
        "train_loader = DataLoader(TRAIN_seq,batch_size=batch_size)\n",
        "test_loader = DataLoader(TEST_seq,batch_size=batch_size)\n",
        "\n",
        "model = RNN(input_size, hidden_size, num_layers, num_classes).to(device)\n",
        "\n",
        "# Loss and optimizer\n",
        "criterion = nn.CrossEntropyLoss()\n",
        "optimizer = torch.optim.Adam(model.parameters(), lr=learning_rate)"
      ],
      "execution_count": 41,
      "outputs": []
    },
    {
      "cell_type": "code",
      "metadata": {
        "id": "lnTMgkj_r0bu"
      },
      "source": [
        "# Train the model\n",
        "total_step = len(train_loader)\n",
        "for epoch in range(num_epochs):\n",
        "    for i, (images, labels) in enumerate(train_loader):\n",
        "        images = images.reshape(-1, sequence_length, input_size).to(device)\n",
        "        labels = labels.to(device)\n",
        "        \n",
        "        # Forward pass\n",
        "        outputs = model(images)\n",
        "        loss = criterion(outputs, labels)\n",
        "        \n",
        "        # Backward and optimize\n",
        "        optimizer.zero_grad()\n",
        "        loss.backward()\n",
        "        optimizer.step()\n",
        "        \n",
        "        if (i+1) % 100 == 0:\n",
        "            print ('Epoch [{}/{}], Step [{}/{}], Loss: {:.4f}' \n",
        "                   .format(epoch+1, num_epochs, i+1, total_step, loss.item()))\n",
        "\n",
        "# Test the model\n",
        "model.eval()\n",
        "with torch.no_grad():\n",
        "    correct = 0\n",
        "    total = 0\n",
        "    for images, labels in test_loader:\n",
        "        images = images.reshape(-1, sequence_length, input_size).to(device)\n",
        "        labels = labels.to(device)\n",
        "        outputs = model(images)\n",
        "        _, predicted = torch.max(outputs.data, 1)\n",
        "        total += labels.size(0)\n",
        "        correct += (predicted == labels).sum().item()\n",
        "\n",
        "    print('Test Accuracy of the model on the 10000 test images: {} %'.format(100 * correct / total)) "
      ],
      "execution_count": null,
      "outputs": []
    },
    {
      "cell_type": "code",
      "metadata": {
        "id": "4-HGB_4rbSBT"
      },
      "source": [
        ""
      ],
      "execution_count": null,
      "outputs": []
    }
  ]
}